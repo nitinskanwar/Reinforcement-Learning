{
 "cells": [
  {
   "cell_type": "code",
   "execution_count": 90,
   "metadata": {},
   "outputs": [],
   "source": [
    "import random\n",
    "\n",
    "class TextGenerator:\n",
    "    def __init__ (self, order): #order = 2\n",
    "        self.order = order\n",
    "        self.group_size = self.order + 1 # group_size = 3\n",
    "        self.text = None\n",
    "        self.graph = {}\n",
    "        return\n",
    "\n",
    "    def train(self, filename):\n",
    "        self.text = open(filename).read().split()\n",
    "        self.text = self.text + self.text[ : self.order] # Add the values to the end of the text list\n",
    "        for i in range (0, len (self.text) - self.group_size): # 0 to 6765-3\n",
    "            key = tuple(self.text[i : i + self.order]) # self.text [0 : 2] so 0 and 1\n",
    "            value = self.text [i + self.order] # 2nd value from text\n",
    "            if key in self.graph:\n",
    "                self.graph [key] .append (value)\n",
    "            else:\n",
    "                self.graph [key] = [value]\n",
    "        #print(self.graph)\n",
    "        return\n",
    "\n",
    "    def generate(self,length):\n",
    "        index = random.randint(0, len (self.text) - self.order)\n",
    "        result = self.text[index : index + self.order]\n",
    "        #print(result)\n",
    "        for i in range (length):\n",
    "            state = tuple(result[len(result) - self.order : ])\n",
    "            #print(state)\n",
    "            #print(\"graph state: \", self.graph [state])\n",
    "            next_word = random.choice(self.graph [state] )\n",
    "            #print(next_word)\n",
    "            result.append(next_word)\n",
    "        return \" \".join(result[self.order : ])"
   ]
  },
  {
   "cell_type": "code",
   "execution_count": 92,
   "metadata": {},
   "outputs": [
    {
     "data": {
      "text/plain": [
       "\"looked upon him o'Wednesday half an hour together: has such aconfirmed countenance. I saw him run after a gildedbutterfly: and when he caught it, he let it goagain; and after it again; and over and over hecomes, and again; catched it again; or whether hisfall enraged him, or how 'twas, he did so set histeeth and tear it; O, I warrant it, how he mammockedit!VOLUMNIA:One on 's father's moods.VALERIA:Indeed, la, 'tis a noble child.VIRGILIA:A crack, madam.VALERIA:Come, lay aside your stitchery; I must have you playthe idle husewife with me this afternoon.VIRGILIA:No, good madam; I will not out of doors.VALERIA:Not out\""
      ]
     },
     "execution_count": 92,
     "metadata": {},
     "output_type": "execute_result"
    }
   ],
   "source": [
    "textGen = TextGenerator(5)\n",
    "textGen.train(\"corpus.txt\")\n",
    "textGen.generate(100)"
   ]
  },
  {
   "cell_type": "code",
   "execution_count": null,
   "metadata": {},
   "outputs": [],
   "source": []
  }
 ],
 "metadata": {
  "kernelspec": {
   "display_name": "Python 3",
   "language": "python",
   "name": "python3"
  },
  "language_info": {
   "codemirror_mode": {
    "name": "ipython",
    "version": 3
   },
   "file_extension": ".py",
   "mimetype": "text/x-python",
   "name": "python",
   "nbconvert_exporter": "python",
   "pygments_lexer": "ipython3",
   "version": "3.6.4"
  }
 },
 "nbformat": 4,
 "nbformat_minor": 2
}
